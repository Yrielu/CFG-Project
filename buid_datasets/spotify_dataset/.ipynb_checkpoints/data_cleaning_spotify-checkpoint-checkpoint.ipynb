{
 "cells": [
  {
   "cell_type": "code",
   "execution_count": 1,
   "id": "3400e23f-24db-4594-82c1-5bc24994127c",
   "metadata": {},
   "outputs": [],
   "source": [
    "import pandas as pd"
   ]
  },
  {
   "cell_type": "code",
   "execution_count": 2,
   "id": "4ed694ea-ca1f-4555-b777-1c171eb0b0dc",
   "metadata": {},
   "outputs": [],
   "source": [
    "import matplotlib.pyplot as plt\n",
    "%matplotlib inline"
   ]
  },
  {
   "cell_type": "code",
   "execution_count": 3,
   "id": "3ff87d2b-1900-499b-a4c0-3aa5a72fc9cf",
   "metadata": {},
   "outputs": [],
   "source": [
    "import seaborn as sns"
   ]
  },
  {
   "cell_type": "code",
   "execution_count": 4,
   "id": "a9c25d81-618a-43ed-90af-f0f027f3c319",
   "metadata": {},
   "outputs": [],
   "source": [
    "import numpy as np"
   ]
  },
  {
   "cell_type": "code",
   "execution_count": 13,
   "id": "ae9314ac-d1e6-4f25-b501-7b0214ddaec9",
   "metadata": {},
   "outputs": [],
   "source": [
    "import re"
   ]
  },
  {
   "cell_type": "code",
   "execution_count": 9,
   "id": "cb0d699f-9ad3-4949-b4ad-bb3fd73727ac",
   "metadata": {},
   "outputs": [],
   "source": [
    "spotify_df = pd.read_csv('SpotifyAPI/spotify_dataset.csv')"
   ]
  },
  {
   "cell_type": "code",
   "execution_count": 10,
   "id": "8df5c62c-21bb-4b23-9bac-602639253fc3",
   "metadata": {},
   "outputs": [
    {
     "data": {
      "text/html": [
       "<div>\n",
       "<style scoped>\n",
       "    .dataframe tbody tr th:only-of-type {\n",
       "        vertical-align: middle;\n",
       "    }\n",
       "\n",
       "    .dataframe tbody tr th {\n",
       "        vertical-align: top;\n",
       "    }\n",
       "\n",
       "    .dataframe thead th {\n",
       "        text-align: right;\n",
       "    }\n",
       "</style>\n",
       "<table border=\"1\" class=\"dataframe\">\n",
       "  <thead>\n",
       "    <tr style=\"text-align: right;\">\n",
       "      <th></th>\n",
       "      <th>artist</th>\n",
       "      <th>song_name</th>\n",
       "      <th>quarterly_date</th>\n",
       "      <th>n_streams</th>\n",
       "      <th>genre</th>\n",
       "    </tr>\n",
       "  </thead>\n",
       "  <tbody>\n",
       "    <tr>\n",
       "      <th>0</th>\n",
       "      <td>50 Cent</td>\n",
       "      <td>In Da Club</td>\n",
       "      <td>2009 Q4</td>\n",
       "      <td>NaN</td>\n",
       "      <td>Hip-Hop</td>\n",
       "    </tr>\n",
       "    <tr>\n",
       "      <th>1</th>\n",
       "      <td>Eminem</td>\n",
       "      <td>Without Me</td>\n",
       "      <td>2009 Q2</td>\n",
       "      <td>NaN</td>\n",
       "      <td>Hip-Hop</td>\n",
       "    </tr>\n",
       "    <tr>\n",
       "      <th>2</th>\n",
       "      <td>Mary J. Blige</td>\n",
       "      <td>Family Affair</td>\n",
       "      <td>2009 Q1</td>\n",
       "      <td>NaN</td>\n",
       "      <td>R&amp;B</td>\n",
       "    </tr>\n",
       "    <tr>\n",
       "      <th>3</th>\n",
       "      <td>Akon</td>\n",
       "      <td>Smack That</td>\n",
       "      <td>2009 Q1</td>\n",
       "      <td>NaN</td>\n",
       "      <td>R&amp;B</td>\n",
       "    </tr>\n",
       "    <tr>\n",
       "      <th>4</th>\n",
       "      <td>USHER</td>\n",
       "      <td>Yeah! (feat. Lil Jon &amp; Ludacris)</td>\n",
       "      <td>2009 Q2</td>\n",
       "      <td>NaN</td>\n",
       "      <td>r&amp;b</td>\n",
       "    </tr>\n",
       "  </tbody>\n",
       "</table>\n",
       "</div>"
      ],
      "text/plain": [
       "          artist                         song_name quarterly_date  n_streams  \\\n",
       "0        50 Cent                        In Da Club        2009 Q4        NaN   \n",
       "1         Eminem                        Without Me        2009 Q2        NaN   \n",
       "2  Mary J. Blige                     Family Affair        2009 Q1        NaN   \n",
       "3           Akon                        Smack That        2009 Q1        NaN   \n",
       "4          USHER  Yeah! (feat. Lil Jon & Ludacris)        2009 Q2        NaN   \n",
       "\n",
       "     genre  \n",
       "0  Hip-Hop  \n",
       "1  Hip-Hop  \n",
       "2      R&B  \n",
       "3      R&B  \n",
       "4      r&b  "
      ]
     },
     "execution_count": 10,
     "metadata": {},
     "output_type": "execute_result"
    }
   ],
   "source": [
    "spotify_df.head()"
   ]
  },
  {
   "cell_type": "code",
   "execution_count": 11,
   "id": "e42ad9c3-ad8c-4782-96b2-eefb5b1b4d87",
   "metadata": {},
   "outputs": [
    {
     "data": {
      "text/html": [
       "<div>\n",
       "<style scoped>\n",
       "    .dataframe tbody tr th:only-of-type {\n",
       "        vertical-align: middle;\n",
       "    }\n",
       "\n",
       "    .dataframe tbody tr th {\n",
       "        vertical-align: top;\n",
       "    }\n",
       "\n",
       "    .dataframe thead th {\n",
       "        text-align: right;\n",
       "    }\n",
       "</style>\n",
       "<table border=\"1\" class=\"dataframe\">\n",
       "  <thead>\n",
       "    <tr style=\"text-align: right;\">\n",
       "      <th></th>\n",
       "      <th>artist</th>\n",
       "      <th>song_name</th>\n",
       "      <th>quarterly_date</th>\n",
       "      <th>n_streams</th>\n",
       "      <th>genre</th>\n",
       "    </tr>\n",
       "  </thead>\n",
       "  <tbody>\n",
       "    <tr>\n",
       "      <th>9904</th>\n",
       "      <td>a-ha</td>\n",
       "      <td>Take on Me</td>\n",
       "      <td>2022 Q1</td>\n",
       "      <td>336351.0</td>\n",
       "      <td>Synthpop</td>\n",
       "    </tr>\n",
       "    <tr>\n",
       "      <th>9905</th>\n",
       "      <td>Britney Spears</td>\n",
       "      <td>Toxic</td>\n",
       "      <td>2022 Q1</td>\n",
       "      <td>335925.0</td>\n",
       "      <td>Pop</td>\n",
       "    </tr>\n",
       "    <tr>\n",
       "      <th>9906</th>\n",
       "      <td>Internet Money, Gunna, Don Toliver, NAV</td>\n",
       "      <td>Lemonade (feat. Gunna, Don Toliver &amp; NAV)</td>\n",
       "      <td>2022 Q1</td>\n",
       "      <td>334594.0</td>\n",
       "      <td>NaN</td>\n",
       "    </tr>\n",
       "    <tr>\n",
       "      <th>9907</th>\n",
       "      <td>Avicii</td>\n",
       "      <td>The Nights</td>\n",
       "      <td>2022 Q1</td>\n",
       "      <td>333649.0</td>\n",
       "      <td>House</td>\n",
       "    </tr>\n",
       "    <tr>\n",
       "      <th>9908</th>\n",
       "      <td>Queen</td>\n",
       "      <td>Bohemian Rhapsody - Remastered 2011</td>\n",
       "      <td>2022 Q1</td>\n",
       "      <td>332972.0</td>\n",
       "      <td>classic rock</td>\n",
       "    </tr>\n",
       "  </tbody>\n",
       "</table>\n",
       "</div>"
      ],
      "text/plain": [
       "                                       artist  \\\n",
       "9904                                     a-ha   \n",
       "9905                           Britney Spears   \n",
       "9906  Internet Money, Gunna, Don Toliver, NAV   \n",
       "9907                                   Avicii   \n",
       "9908                                    Queen   \n",
       "\n",
       "                                      song_name quarterly_date  n_streams  \\\n",
       "9904                                 Take on Me        2022 Q1   336351.0   \n",
       "9905                                      Toxic        2022 Q1   335925.0   \n",
       "9906  Lemonade (feat. Gunna, Don Toliver & NAV)        2022 Q1   334594.0   \n",
       "9907                                 The Nights        2022 Q1   333649.0   \n",
       "9908        Bohemian Rhapsody - Remastered 2011        2022 Q1   332972.0   \n",
       "\n",
       "             genre  \n",
       "9904      Synthpop  \n",
       "9905           Pop  \n",
       "9906           NaN  \n",
       "9907         House  \n",
       "9908  classic rock  "
      ]
     },
     "execution_count": 11,
     "metadata": {},
     "output_type": "execute_result"
    }
   ],
   "source": [
    "spotify_df.tail()"
   ]
  },
  {
   "cell_type": "code",
   "execution_count": 15,
   "id": "1863271b-0deb-4e97-9a89-22642e243191",
   "metadata": {},
   "outputs": [],
   "source": [
    "spotify_df['genre'] = spotify_df['genre'].str.replace(r'^r&b$', 'R&B', flags=re.IGNORECASE, regex=True)"
   ]
  },
  {
   "cell_type": "code",
   "execution_count": 16,
   "id": "c3f4184b-6579-4701-b29a-98d310077597",
   "metadata": {},
   "outputs": [],
   "source": [
    "spotify_df['genre'] = spotify_df['genre'].str.title()"
   ]
  },
  {
   "cell_type": "code",
   "execution_count": 17,
   "id": "e5955ca9-404f-4480-bbee-f5bf13657fa9",
   "metadata": {},
   "outputs": [],
   "source": [
    "spotify_df['genre'] = spotify_df['genre'].str.replace(r'^rnb$', 'R&B', flags=re.IGNORECASE, regex=True)"
   ]
  },
  {
   "cell_type": "code",
   "execution_count": 18,
   "id": "605f00a1-8463-40c3-8330-2b62612795c5",
   "metadata": {},
   "outputs": [
    {
     "data": {
      "text/html": [
       "<div>\n",
       "<style scoped>\n",
       "    .dataframe tbody tr th:only-of-type {\n",
       "        vertical-align: middle;\n",
       "    }\n",
       "\n",
       "    .dataframe tbody tr th {\n",
       "        vertical-align: top;\n",
       "    }\n",
       "\n",
       "    .dataframe thead th {\n",
       "        text-align: right;\n",
       "    }\n",
       "</style>\n",
       "<table border=\"1\" class=\"dataframe\">\n",
       "  <thead>\n",
       "    <tr style=\"text-align: right;\">\n",
       "      <th></th>\n",
       "      <th>artist</th>\n",
       "      <th>song_name</th>\n",
       "      <th>quarterly_date</th>\n",
       "      <th>n_streams</th>\n",
       "      <th>genre</th>\n",
       "    </tr>\n",
       "  </thead>\n",
       "  <tbody>\n",
       "    <tr>\n",
       "      <th>0</th>\n",
       "      <td>50 Cent</td>\n",
       "      <td>In Da Club</td>\n",
       "      <td>2009 Q4</td>\n",
       "      <td>NaN</td>\n",
       "      <td>Hip-Hop</td>\n",
       "    </tr>\n",
       "    <tr>\n",
       "      <th>1</th>\n",
       "      <td>Eminem</td>\n",
       "      <td>Without Me</td>\n",
       "      <td>2009 Q2</td>\n",
       "      <td>NaN</td>\n",
       "      <td>Hip-Hop</td>\n",
       "    </tr>\n",
       "    <tr>\n",
       "      <th>2</th>\n",
       "      <td>Mary J. Blige</td>\n",
       "      <td>Family Affair</td>\n",
       "      <td>2009 Q1</td>\n",
       "      <td>NaN</td>\n",
       "      <td>R&amp;B</td>\n",
       "    </tr>\n",
       "    <tr>\n",
       "      <th>3</th>\n",
       "      <td>Akon</td>\n",
       "      <td>Smack That</td>\n",
       "      <td>2009 Q1</td>\n",
       "      <td>NaN</td>\n",
       "      <td>R&amp;B</td>\n",
       "    </tr>\n",
       "    <tr>\n",
       "      <th>4</th>\n",
       "      <td>USHER</td>\n",
       "      <td>Yeah! (feat. Lil Jon &amp; Ludacris)</td>\n",
       "      <td>2009 Q2</td>\n",
       "      <td>NaN</td>\n",
       "      <td>R&amp;B</td>\n",
       "    </tr>\n",
       "  </tbody>\n",
       "</table>\n",
       "</div>"
      ],
      "text/plain": [
       "          artist                         song_name quarterly_date  n_streams  \\\n",
       "0        50 Cent                        In Da Club        2009 Q4        NaN   \n",
       "1         Eminem                        Without Me        2009 Q2        NaN   \n",
       "2  Mary J. Blige                     Family Affair        2009 Q1        NaN   \n",
       "3           Akon                        Smack That        2009 Q1        NaN   \n",
       "4          USHER  Yeah! (feat. Lil Jon & Ludacris)        2009 Q2        NaN   \n",
       "\n",
       "     genre  \n",
       "0  Hip-Hop  \n",
       "1  Hip-Hop  \n",
       "2      R&B  \n",
       "3      R&B  \n",
       "4      R&B  "
      ]
     },
     "execution_count": 18,
     "metadata": {},
     "output_type": "execute_result"
    }
   ],
   "source": [
    "spotify_df.head()"
   ]
  },
  {
   "cell_type": "code",
   "execution_count": 19,
   "id": "89588a34-2499-4bde-8200-8728db23648d",
   "metadata": {},
   "outputs": [],
   "source": [
    "spotify_df['genre'] = spotify_df['genre'].str.replace(r'^hip hop$', 'Hip-Hop', flags=re.IGNORECASE, regex=True)"
   ]
  },
  {
   "cell_type": "code",
   "execution_count": 20,
   "id": "3ab4f8f8-d73b-443c-af9d-ae751d610432",
   "metadata": {},
   "outputs": [],
   "source": [
    "missing_genres = spotify_df[spotify_df['genre'].isna()]"
   ]
  },
  {
   "cell_type": "code",
   "execution_count": 21,
   "id": "188af608-a8e8-484d-8b50-8a841150018e",
   "metadata": {},
   "outputs": [
    {
     "data": {
      "text/plain": [
       "410"
      ]
     },
     "execution_count": 21,
     "metadata": {},
     "output_type": "execute_result"
    }
   ],
   "source": [
    "missing_count = spotify_df['genre'].isna().sum()\n",
    "missing_count"
   ]
  },
  {
   "cell_type": "code",
   "execution_count": 23,
   "id": "34c3cb54-6326-45ae-a8f3-21e20a285865",
   "metadata": {},
   "outputs": [],
   "source": [
    "spotify_df['genre'].fillna('Unknown', inplace=True)"
   ]
  },
  {
   "cell_type": "code",
   "execution_count": 24,
   "id": "c4e4b261-43e9-42a2-bb3e-138184356b75",
   "metadata": {},
   "outputs": [
    {
     "name": "stdout",
     "output_type": "stream",
     "text": [
      "<class 'pandas.core.frame.DataFrame'>\n",
      "RangeIndex: 9909 entries, 0 to 9908\n",
      "Data columns (total 5 columns):\n",
      " #   Column          Non-Null Count  Dtype  \n",
      "---  ------          --------------  -----  \n",
      " 0   artist          9909 non-null   object \n",
      " 1   song_name       9909 non-null   object \n",
      " 2   quarterly_date  9909 non-null   object \n",
      " 3   n_streams       9839 non-null   float64\n",
      " 4   genre           9909 non-null   object \n",
      "dtypes: float64(1), object(4)\n",
      "memory usage: 387.2+ KB\n"
     ]
    }
   ],
   "source": [
    "spotify_df.info()"
   ]
  },
  {
   "cell_type": "code",
   "execution_count": 25,
   "id": "dd19fb61-5461-42cc-b4b5-04709c6bff29",
   "metadata": {},
   "outputs": [],
   "source": [
    "spotify_df['genre'] = spotify_df['genre'].str.replace(r'^...$', 'Unknown', flags=re.IGNORECASE, regex=True)"
   ]
  },
  {
   "cell_type": "code",
   "execution_count": 26,
   "id": "87bb760d-f161-40d6-a16c-646f4a5e871d",
   "metadata": {},
   "outputs": [],
   "source": [
    "spotify_df.to_csv('SpotifyAPI/spotify_dataset.csv')"
   ]
  },
  {
   "cell_type": "code",
   "execution_count": 27,
   "id": "fdeef64e-b4a9-4f18-9fdf-653a270b34ae",
   "metadata": {},
   "outputs": [
    {
     "data": {
      "text/html": [
       "<div>\n",
       "<style scoped>\n",
       "    .dataframe tbody tr th:only-of-type {\n",
       "        vertical-align: middle;\n",
       "    }\n",
       "\n",
       "    .dataframe tbody tr th {\n",
       "        vertical-align: top;\n",
       "    }\n",
       "\n",
       "    .dataframe thead th {\n",
       "        text-align: right;\n",
       "    }\n",
       "</style>\n",
       "<table border=\"1\" class=\"dataframe\">\n",
       "  <thead>\n",
       "    <tr style=\"text-align: right;\">\n",
       "      <th></th>\n",
       "      <th>n_streams</th>\n",
       "    </tr>\n",
       "  </thead>\n",
       "  <tbody>\n",
       "    <tr>\n",
       "      <th>count</th>\n",
       "      <td>9.839000e+03</td>\n",
       "    </tr>\n",
       "    <tr>\n",
       "      <th>mean</th>\n",
       "      <td>3.869979e+06</td>\n",
       "    </tr>\n",
       "    <tr>\n",
       "      <th>std</th>\n",
       "      <td>5.035867e+06</td>\n",
       "    </tr>\n",
       "    <tr>\n",
       "      <th>min</th>\n",
       "      <td>2.122370e+05</td>\n",
       "    </tr>\n",
       "    <tr>\n",
       "      <th>25%</th>\n",
       "      <td>6.596330e+05</td>\n",
       "    </tr>\n",
       "    <tr>\n",
       "      <th>50%</th>\n",
       "      <td>2.041885e+06</td>\n",
       "    </tr>\n",
       "    <tr>\n",
       "      <th>75%</th>\n",
       "      <td>5.092626e+06</td>\n",
       "    </tr>\n",
       "    <tr>\n",
       "      <th>max</th>\n",
       "      <td>7.170057e+07</td>\n",
       "    </tr>\n",
       "  </tbody>\n",
       "</table>\n",
       "</div>"
      ],
      "text/plain": [
       "          n_streams\n",
       "count  9.839000e+03\n",
       "mean   3.869979e+06\n",
       "std    5.035867e+06\n",
       "min    2.122370e+05\n",
       "25%    6.596330e+05\n",
       "50%    2.041885e+06\n",
       "75%    5.092626e+06\n",
       "max    7.170057e+07"
      ]
     },
     "execution_count": 27,
     "metadata": {},
     "output_type": "execute_result"
    }
   ],
   "source": [
    "spotify_df.describe()"
   ]
  },
  {
   "cell_type": "code",
   "execution_count": 28,
   "id": "30c4de8f-5070-44b1-9ca7-380c2ebb0bff",
   "metadata": {},
   "outputs": [],
   "source": [
    "spotify_df['genre'] = spotify_df['genre'].str.replace(r'^pusha t$', 'Hip-Hop', flags=re.IGNORECASE, regex=True)"
   ]
  },
  {
   "cell_type": "code",
   "execution_count": 30,
   "id": "5d5e3bc2-8548-46ac-b257-6b60e12de928",
   "metadata": {},
   "outputs": [],
   "source": [
    "spotify_df.loc[spotify_df['genre'].str.isdigit(), 'genre'] = 'Unknown'"
   ]
  },
  {
   "cell_type": "code",
   "execution_count": 31,
   "id": "aa458afd-c587-46a3-acf8-7d17b56b9d7e",
   "metadata": {},
   "outputs": [],
   "source": [
    "spotify_df.to_csv('SpotifyAPI/spotify_dataset.csv')"
   ]
  },
  {
   "cell_type": "code",
   "execution_count": 32,
   "id": "a8138440-7544-4d57-bced-628276d199a0",
   "metadata": {},
   "outputs": [
    {
     "data": {
      "text/plain": [
       "['2010S',\n",
       " '2020S',\n",
       " '21 Savage',\n",
       " '6Ix9Ine',\n",
       " 'A Boogie Wit Da Hoodie',\n",
       " 'A Subtle Use Of Vocal Harmony',\n",
       " 'Acoustic',\n",
       " 'Adult Contemporary',\n",
       " 'Adult Standards',\n",
       " 'Afrobeat',\n",
       " 'Afrobeats',\n",
       " 'Afroswing',\n",
       " 'Alessia Cara',\n",
       " 'Alternative',\n",
       " 'Alternative Hip Hop',\n",
       " 'Alternative Hip-Hop',\n",
       " 'Alternative Metal',\n",
       " 'Alternative R&B',\n",
       " 'Alternative Rnb',\n",
       " 'Alternative Rock',\n",
       " 'Ambient Pop',\n",
       " 'American',\n",
       " 'Anne-Marie',\n",
       " 'Art Pop',\n",
       " 'Australian',\n",
       " 'Awesome',\n",
       " 'Azonto',\n",
       " 'Bachata',\n",
       " 'Ballad',\n",
       " 'Banned',\n",
       " 'Baroque Pop',\n",
       " 'Bassline',\n",
       " 'Bedroom Pop',\n",
       " 'Beyonce',\n",
       " 'Big Band',\n",
       " 'Big Beat',\n",
       " 'Big Sean',\n",
       " 'Bolero',\n",
       " 'Bossa Nova',\n",
       " 'Boysband',\n",
       " 'Brazilian Bass',\n",
       " 'Breakbeat',\n",
       " 'British',\n",
       " 'Britpop',\n",
       " 'Brooklyn Drill',\n",
       " 'Bruno Mars',\n",
       " 'Camila',\n",
       " 'Canadian',\n",
       " 'Cardi B',\n",
       " 'Celtic Rock',\n",
       " 'Chamber Pop',\n",
       " 'Chance The Rapper',\n",
       " 'Chanson',\n",
       " 'Children',\n",
       " 'Chill',\n",
       " 'Chris Brown',\n",
       " 'Christian',\n",
       " 'Christian Country',\n",
       " 'Christian Hip Hop',\n",
       " 'Christmas',\n",
       " 'Christmas Songs',\n",
       " 'Classic Rock',\n",
       " 'Clear Pronunciation',\n",
       " 'Cloud Rap',\n",
       " 'Comedy',\n",
       " 'Conscious Hip Hop',\n",
       " 'Corpse',\n",
       " 'Country',\n",
       " 'Country Hip Hop',\n",
       " 'Country Pop',\n",
       " 'Country Rock',\n",
       " 'Cover',\n",
       " 'Dance',\n",
       " 'Dance Pop',\n",
       " 'Dance-Pop',\n",
       " 'Dancehall',\n",
       " 'Dark Trap',\n",
       " 'Days Of The Week',\n",
       " 'Death Metal',\n",
       " 'Deep House',\n",
       " 'Dembow',\n",
       " 'Disco',\n",
       " \"Don'T Let The Internet Ruin Your Time\",\n",
       " 'Doo-Wop',\n",
       " 'Drag Race',\n",
       " 'Drake',\n",
       " 'Dream Pop',\n",
       " 'Drill',\n",
       " 'Drum & Bass',\n",
       " 'Drum And Bass',\n",
       " 'Dua Lipa',\n",
       " 'Dubstep',\n",
       " 'East Coast Hip Hop',\n",
       " 'Electro',\n",
       " 'Electro Corridos',\n",
       " 'Electro House',\n",
       " 'Electronic',\n",
       " 'Electronica',\n",
       " 'Electropop',\n",
       " 'Eminem',\n",
       " 'Emo Rap',\n",
       " 'Euro Dance',\n",
       " 'Eurovision',\n",
       " 'Eurovision Song Contest',\n",
       " 'Exotica',\n",
       " 'Experimental',\n",
       " 'Experimental Hip Hop',\n",
       " 'Favourite',\n",
       " 'Featuring',\n",
       " 'Female',\n",
       " 'Female Vocalists',\n",
       " 'Flamenco',\n",
       " 'Flamenco Urbano',\n",
       " 'Folk',\n",
       " 'Folk Pop',\n",
       " 'Folk Rock',\n",
       " 'Football',\n",
       " 'Fortnite',\n",
       " 'French',\n",
       " 'French House',\n",
       " 'Funk',\n",
       " 'Future Bass',\n",
       " 'Gangsta Rap',\n",
       " 'Gangster Rap',\n",
       " 'Garage',\n",
       " 'Garbage',\n",
       " 'Gay Anthem',\n",
       " 'Gekyume',\n",
       " 'Gen Z',\n",
       " 'Glam Metal',\n",
       " 'Gorillaz',\n",
       " 'Great Way To Start An Album',\n",
       " 'Grime',\n",
       " 'Guitar',\n",
       " 'Gunna',\n",
       " 'Halloween',\n",
       " 'Hard Rock',\n",
       " 'Hardcore Hip Hop',\n",
       " 'Hardcore Punk',\n",
       " 'Hip-Hop',\n",
       " 'Hiphop',\n",
       " 'House',\n",
       " 'Hyperpop',\n",
       " 'Hyphy',\n",
       " 'Indie',\n",
       " 'Indie Folk',\n",
       " 'Indie Pop',\n",
       " 'Indie Rock',\n",
       " 'J Cole',\n",
       " 'Jamaican',\n",
       " 'James Bond',\n",
       " 'Jason Derulo',\n",
       " 'Jason Isbell',\n",
       " 'Jazz',\n",
       " 'Jazz Rap',\n",
       " 'Jeremih',\n",
       " 'John Legend',\n",
       " 'Juice Wrld',\n",
       " 'Jungle',\n",
       " 'Justin Bieber',\n",
       " 'K-Pop',\n",
       " 'Kanye West',\n",
       " 'Kendrick Lamar',\n",
       " 'Khalid',\n",
       " 'Lana Del Rey',\n",
       " 'Latin',\n",
       " 'Latin Pop',\n",
       " 'Laïko',\n",
       " 'Lil Baby',\n",
       " 'Lil Nas X',\n",
       " 'Lil Yachty',\n",
       " 'Linedance 2018',\n",
       " 'Linedance 2020',\n",
       " 'Linedance 2021',\n",
       " 'Little Mix',\n",
       " 'Lo-Fi',\n",
       " 'Love',\n",
       " 'Love At First Listen',\n",
       " 'Lullaby',\n",
       " 'Mac Miller',\n",
       " 'Male',\n",
       " 'Male Vocalists',\n",
       " 'Manele',\n",
       " 'Mariachi',\n",
       " 'Maroon 5',\n",
       " 'Mashup',\n",
       " 'Mcdonalds',\n",
       " 'Meek Mill',\n",
       " 'Melodic Rap',\n",
       " 'Melodic Techno',\n",
       " 'Memphis Rap',\n",
       " 'Metal',\n",
       " 'Metalcore',\n",
       " 'Minecraft',\n",
       " 'Modern Rock',\n",
       " 'Moombahton',\n",
       " 'Motown',\n",
       " 'Musical',\n",
       " 'Musicals',\n",
       " 'My Recommendation',\n",
       " 'My Scribbled',\n",
       " 'My Top Songs',\n",
       " 'Myspotigrambot',\n",
       " 'Neo-Soul',\n",
       " 'Neoperreo',\n",
       " 'New Wave',\n",
       " 'Nicki Minaj',\n",
       " 'Noah Cyrus',\n",
       " 'Norwegian Pop',\n",
       " 'Nu Metal',\n",
       " 'Offset',\n",
       " 'Oh Baby',\n",
       " 'One Track Mind',\n",
       " 'Overrated',\n",
       " 'Party',\n",
       " 'Peak',\n",
       " 'Peter',\n",
       " 'Piano',\n",
       " 'Please Let Me Lick You',\n",
       " 'Polo G',\n",
       " 'Pop Punk',\n",
       " 'Pop Rap',\n",
       " 'Pop Rock',\n",
       " 'Pop Urbaine',\n",
       " 'Pop-Punk',\n",
       " 'Pop-Rock',\n",
       " 'Post Malone',\n",
       " 'Power Pop',\n",
       " 'Progressive House',\n",
       " 'Progressive Metal',\n",
       " 'Progressive Rock',\n",
       " 'Psychedelic Pop',\n",
       " 'Psychedelic Rock',\n",
       " 'Psychedelic Soul',\n",
       " 'Punjabi Hip Hop',\n",
       " 'Punk Rock',\n",
       " 'Rage Rap',\n",
       " 'Reggae',\n",
       " 'Reggae Fusion',\n",
       " 'Reggaeton',\n",
       " 'Remix',\n",
       " 'Rihanna',\n",
       " 'Rock',\n",
       " 'Rock & Roll',\n",
       " 'Rockabilly',\n",
       " 'Rupauls Drag Race',\n",
       " 'Salsa',\n",
       " 'Sampling',\n",
       " 'Saxophone',\n",
       " 'Sea Shanties',\n",
       " 'Seen Live',\n",
       " 'Sexy',\n",
       " 'Sheck Wes',\n",
       " 'Singer Songwriter',\n",
       " 'Singer-Songwriter',\n",
       " 'Slap House',\n",
       " 'Snoop Dogg',\n",
       " 'Soft Pop',\n",
       " 'Soft Rock',\n",
       " 'Soul',\n",
       " 'Soundtrack',\n",
       " 'Southern Hip Hop',\n",
       " 'Spotify Voce Cagou A Tag',\n",
       " 'Stutter House',\n",
       " 'Summer',\n",
       " 'Swedish',\n",
       " 'Swing',\n",
       " 'Synthpop',\n",
       " 'Tech House',\n",
       " 'Teezo Touchdown',\n",
       " 'The Best Song Ever',\n",
       " 'The Weeknd',\n",
       " 'Tidal My Most Listened',\n",
       " 'Tiktok',\n",
       " 'Tory Lanez',\n",
       " 'Trance',\n",
       " 'Trap',\n",
       " 'Trap Latino',\n",
       " 'Travis Scott',\n",
       " 'Trip Hop',\n",
       " 'Trip-Hop',\n",
       " 'Tropical House',\n",
       " 'Uk Drill',\n",
       " 'Uk Funky',\n",
       " 'Uk Garage',\n",
       " 'Unknown',\n",
       " 'Unnecessary Collaboration',\n",
       " 'Vai Se Fuder',\n",
       " 'Vocal Harmonies',\n",
       " 'Vocal Jazz',\n",
       " 'We Love Taunt',\n",
       " 'West Coast Hip Hop',\n",
       " 'Wizkid',\n",
       " 'Wrong Artist',\n",
       " 'Youtube Rap',\n",
       " 'Zayn']"
      ]
     },
     "execution_count": 32,
     "metadata": {},
     "output_type": "execute_result"
    }
   ],
   "source": [
    "sorted(spotify_df['genre'].unique())"
   ]
  },
  {
   "cell_type": "code",
   "execution_count": 33,
   "id": "9cfe844f-b94b-4968-83bc-38286f1a4a83",
   "metadata": {},
   "outputs": [],
   "source": [
    "spotify_df['genre'] = spotify_df['genre'].str.replace(r'^Alternative Hip Hop$', 'Alternative Hip-Hop', flags=re.IGNORECASE, regex=True)"
   ]
  },
  {
   "cell_type": "code",
   "execution_count": 34,
   "id": "7fc89da5-160e-46de-9dbe-9c4845aa972e",
   "metadata": {},
   "outputs": [],
   "source": [
    "spotify_df['genre'] = spotify_df['genre'].str.replace(r'^2010S$', 'Unknown', flags=re.IGNORECASE, regex=True)"
   ]
  },
  {
   "cell_type": "code",
   "execution_count": 35,
   "id": "b6089e7c-4682-4027-8b95-b61eecc5e3e0",
   "metadata": {},
   "outputs": [],
   "source": [
    "spotify_df['genre'] = spotify_df['genre'].str.replace(r'^2020S$', 'Unknown', flags=re.IGNORECASE, regex=True)"
   ]
  },
  {
   "cell_type": "code",
   "execution_count": 36,
   "id": "39d0bdeb-f5e0-4d38-8df2-eb8e6e46a8e0",
   "metadata": {},
   "outputs": [],
   "source": [
    "spotify_df['genre'] = spotify_df['genre'].str.replace(r'^Gangster Rap$', 'Gangsta Rap', flags=re.IGNORECASE, regex=True)"
   ]
  },
  {
   "cell_type": "code",
   "execution_count": 37,
   "id": "bbf3bc77-392d-4a94-8fa9-a1d62bece7f1",
   "metadata": {},
   "outputs": [],
   "source": [
    "spotify_df['genre'] = spotify_df['genre'].str.replace(r'^21 Savage$', 'Hip-Hop', flags=re.IGNORECASE, regex=True)"
   ]
  },
  {
   "cell_type": "code",
   "execution_count": 38,
   "id": "7cb7f70b-ab9e-46fb-96a8-39f54b9123ce",
   "metadata": {},
   "outputs": [],
   "source": [
    "spotify_df['genre'] = spotify_df['genre'].str.replace(r'^6Ix9Ine$', 'Hip-Hop', flags=re.IGNORECASE, regex=True)"
   ]
  },
  {
   "cell_type": "code",
   "execution_count": 39,
   "id": "c504d6c2-0f91-49a2-81af-f6e154860a48",
   "metadata": {},
   "outputs": [],
   "source": [
    "spotify_df['genre'] = spotify_df['genre'].str.replace(r'^A Boogie Wit Da Hoodie$', 'Hip-Hop', flags=re.IGNORECASE, regex=True)"
   ]
  },
  {
   "cell_type": "code",
   "execution_count": 40,
   "id": "da25549e-48b8-4170-b686-27a6d6bb78e5",
   "metadata": {},
   "outputs": [],
   "source": [
    "spotify_df.to_csv('SpotifyAPI/spotify_dataset.csv')"
   ]
  },
  {
   "cell_type": "code",
   "execution_count": 41,
   "id": "68486ea7-5b0c-4921-888e-2f23a4348822",
   "metadata": {},
   "outputs": [
    {
     "data": {
      "text/plain": [
       "3427"
      ]
     },
     "execution_count": 41,
     "metadata": {},
     "output_type": "execute_result"
    }
   ],
   "source": [
    "unknown_count = (spotify_df['genre'] == 'Unknown').sum()\n",
    "unknown_count"
   ]
  },
  {
   "cell_type": "code",
   "execution_count": 42,
   "id": "2eef735b-b229-4b83-b17e-d61bafa970b6",
   "metadata": {},
   "outputs": [
    {
     "data": {
      "text/plain": [
       "song_name\n",
       "'Till I Collapse                1\n",
       "(Fuck A) Silver Lining          1\n",
       "...Ready For It?                4\n",
       "1 0 0 . m i l ‘ (with Bas)      1\n",
       "1 step forward, 3 steps back    2\n",
       "                               ..\n",
       "wish you were gay               4\n",
       "xanny                           1\n",
       "you & me                        1\n",
       "you should see me in a crown    4\n",
       "美女と野獣                           2\n",
       "Length: 1488, dtype: int64"
      ]
     },
     "execution_count": 42,
     "metadata": {},
     "output_type": "execute_result"
    }
   ],
   "source": [
    "unknown_songs = spotify_df[spotify_df['genre'] == 'Unknown']\n",
    "\n",
    "song_counts = unknown_songs.groupby('song_name').size()\n",
    "\n",
    "song_counts"
   ]
  },
  {
   "cell_type": "code",
   "execution_count": 43,
   "id": "642532fb-1630-4bb1-b67e-23690d406504",
   "metadata": {},
   "outputs": [
    {
     "data": {
      "text/plain": [
       "4"
      ]
     },
     "execution_count": 43,
     "metadata": {},
     "output_type": "execute_result"
    }
   ],
   "source": [
    "wish_count = (spotify_df['song_name'] == 'wish you were gay').sum()\n",
    "wish_count"
   ]
  },
  {
   "cell_type": "code",
   "execution_count": 44,
   "id": "48e0876b-d2bb-49ef-ba35-782dd38c8776",
   "metadata": {},
   "outputs": [],
   "source": [
    "spotify_df['song_name'] = spotify_df['song_name'].str.title()"
   ]
  },
  {
   "cell_type": "code",
   "execution_count": 45,
   "id": "ce54a2df-563e-4afd-a057-e7469c46bc33",
   "metadata": {},
   "outputs": [
    {
     "data": {
      "text/plain": [
       "song_name\n",
       "'Till I Collapse                    1\n",
       "(Fuck A) Silver Lining              1\n",
       "...Ready For It?                    4\n",
       "1 0 0 . M I L ‘ (With Bas)          1\n",
       "1 Step Forward, 3 Steps Back        2\n",
       "                                   ..\n",
       "Your Song                           7\n",
       "Youth (Feat. Khalid)                1\n",
       "You’Re Mines Still (Feat. Drake)    3\n",
       "Yummy                               3\n",
       "美女と野獣                               2\n",
       "Length: 1480, dtype: int64"
      ]
     },
     "execution_count": 45,
     "metadata": {},
     "output_type": "execute_result"
    }
   ],
   "source": [
    "unknown_songs = spotify_df[spotify_df['genre'] == 'Unknown']\n",
    "\n",
    "song_counts = unknown_songs.groupby('song_name').size()\n",
    "\n",
    "song_counts"
   ]
  },
  {
   "cell_type": "code",
   "execution_count": 46,
   "id": "b341d100-3328-48ac-aee8-fb0fee520660",
   "metadata": {},
   "outputs": [],
   "source": [
    "spotify_df.to_csv('SpotifyAPI/spotify_dataset.csv')"
   ]
  },
  {
   "cell_type": "code",
   "execution_count": 47,
   "id": "02dc2a76-35c9-4eec-a9c9-086b31a225e1",
   "metadata": {},
   "outputs": [],
   "source": [
    "spotify_df.loc[\n",
    "    (spotify_df['artist'] == 'Elton John') & (spotify_df['song_name'] == 'Your Song') & (spotify_df['genre'] == 'Unknown'),\n",
    "    'genre'\n",
    "] = 'Soft Rock'"
   ]
  },
  {
   "cell_type": "code",
   "execution_count": 48,
   "id": "c86a5d88-3b1f-4f60-b71e-1de2160aa34c",
   "metadata": {},
   "outputs": [],
   "source": [
    "spotify_df.loc[\n",
    "    (spotify_df['artist'] == 'Rita Ora') & (spotify_df['song_name'] == 'Your Song') & (spotify_df['genre'] == 'Unknown'),\n",
    "    'genre'\n",
    "] = 'Electro Pop'"
   ]
  },
  {
   "cell_type": "code",
   "execution_count": 49,
   "id": "474aaf1c-5f1a-45b7-9b10-ae0818a282f2",
   "metadata": {},
   "outputs": [],
   "source": [
    "spotify_df.to_csv('SpotifyAPI/spotify_dataset.csv')"
   ]
  },
  {
   "cell_type": "code",
   "execution_count": null,
   "id": "fa3a48e1-ff5c-4d37-ab62-4f1b4dce2167",
   "metadata": {},
   "outputs": [],
   "source": []
  }
 ],
 "metadata": {
  "kernelspec": {
   "display_name": "Python 3 (ipykernel)",
   "language": "python",
   "name": "python3"
  },
  "language_info": {
   "codemirror_mode": {
    "name": "ipython",
    "version": 3
   },
   "file_extension": ".py",
   "mimetype": "text/x-python",
   "name": "python",
   "nbconvert_exporter": "python",
   "pygments_lexer": "ipython3",
   "version": "3.11.0"
  }
 },
 "nbformat": 4,
 "nbformat_minor": 5
}
